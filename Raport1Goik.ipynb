{
 "cells": [
  {
   "metadata": {},
   "cell_type": "markdown",
   "source": "RAPORT 1 - KLASYFIKACJA",
   "id": "eab960b5a52c9cad"
  },
  {
   "metadata": {},
   "cell_type": "markdown",
   "source": "",
   "id": "67cab8796031ae3a"
  },
  {
   "metadata": {},
   "cell_type": "markdown",
   "source": "ZADANIE ",
   "id": "8a4d1afa8b3caf00"
  }
 ],
 "metadata": {
  "kernelspec": {
   "display_name": "Python 3",
   "language": "python",
   "name": "python3"
  },
  "language_info": {
   "codemirror_mode": {
    "name": "ipython",
    "version": 2
   },
   "file_extension": ".py",
   "mimetype": "text/x-python",
   "name": "python",
   "nbconvert_exporter": "python",
   "pygments_lexer": "ipython2",
   "version": "2.7.6"
  }
 },
 "nbformat": 4,
 "nbformat_minor": 5
}
