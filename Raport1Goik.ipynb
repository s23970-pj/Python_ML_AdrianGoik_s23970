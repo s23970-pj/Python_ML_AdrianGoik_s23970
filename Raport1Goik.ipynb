{
 "cells": [
  {
   "metadata": {},
   "cell_type": "markdown",
   "source": [
    "# RAPORT 1 - KLASYFIKACJA \n",
    "<h4> Adrian Goik s23970 28.05.2024 - Indywidualny Program Studiów</h4>"
   ],
   "id": "eab960b5a52c9cad"
  },
  {
   "metadata": {},
   "cell_type": "markdown",
   "source": [
    "<h3>TREŚĆ ZADANIA: Zadanie 3</h3>\n",
    "\n",
    "W załączonym zbiorze danych <b><i>diabetes.csv </b></i>znajdują się dane kobiet indiańskiego pochodzenia z USA, które zachorowały lub nie zachorowały na cukrzycę. Klasyfikator ma na celu diagnozowanie choroby na podstawie parametrów medycznych kobiety. Sprawdź jak działają poznane klasyfikatory na tej bazie danych.<br> Dokonaj porównania:\n",
    "\n",
    "<ol>\n",
    "<li><b><i>k-NN, k=3</b></i></li>\n",
    "<li><b><i>k-NN, k=5</b></i></li>\n",
    "<li><b><i>k-NN, k=11</b></i></li>\n",
    "<li><b><i>Naiwny bayesowski.</b></i></li>\n",
    "<li><b><i>Drzewa decyzyjne.</b></i></li>\n",
    "<ol>"
   ],
   "id": "67cab8796031ae3a"
  },
  {
   "metadata": {},
   "cell_type": "markdown",
   "source": [
    "\n",
    "Na wyższą liczbę punktów mają wpływ następujące rzeczy:</br> \n",
    "<ol>\n",
    "<li>Dobra struktura sprawozdania (wprowadzenie, eksperymenty, objaśnienia, interpretacje).</li>\n",
    "<li>Szczegółowość i dokładność eksperymentów, dodawanie komentarzy i własnych interpretacji wyników</li>\n",
    "<li>Dobre przygotowanie bazy danych do eksperymentów</li>\n",
    "<li>Przejrzystość i estetyka prezentacji</li>\n",
    "<li>Nadprogramowe analizy mile widziane…</li>\n",
    "</ol>"
   ],
   "id": "8a4d1afa8b3caf00"
  },
  {
   "metadata": {},
   "cell_type": "markdown",
   "source": [
    "<h3> Wprowadzenie do wykonywanego zadania</h3>\n",
    "Analizę problemu zaczęto od przeglądu bazy danych i wyciągnięcia następujących wniosków:\n",
    "<ol>\n",
    "<li>Zaprezentowana baza posiada niekompletne rekordy, na co moją uwagę zwróciła użytkowniczka portalu kaggle.</li>\n",
    "<li>Dodanie legendy kolumn bazy danych</li>\n",
    "<li>W kodzie porównania algorymów wykluczenie kolumny 'Outcome', która mogłaby naprowadzić na wynik, co zaburzyło by wiarygodność prowadzonego eksperymentu</li>\n",
    "<li>Bazę danych zgodnie z zaleceniem w zadaniu podzielono w proporcji odpowiednio 67% i 33%</li>\n",
    "\n",
    "</ol></br>\n",
    "<h4>Cel założony</h4>\n",
    "Głównym zadaniem jest określenie, który z tych klasyfikatorów najlepiej radzi sobie z przewidywaniem, czy dana kobieta choruje na cukrzycę. W szczególności skupimy się na minimalizacji błędów klasyfikacji chorych osób jako zdrowe (fałszywe negatywy), ponieważ takie błędy mogą prowadzić do poważnych konsekwencji zdrowotnych, gdyż osoby chore mogłyby zostać odesłane do domu bez odpowiedniego leczenia.\n",
    "\n",
    "\n",
    "\n"
   ],
   "id": "9c06573fd875709a"
  },
  {
   "metadata": {},
   "cell_type": "markdown",
   "source": "Do oceny wyników FN (False Negative) będziemy używać macierzy błędu:",
   "id": "ef12e8c8c5d18827"
  },
  {
   "metadata": {},
   "cell_type": "code",
   "outputs": [],
   "execution_count": null,
   "source": [
    "                 Przewidywane: Zdrowy (0)    Przewidywane: Chory (1)\n",
    "Rzeczywisty: Zdrowy (0)          TN                   FP\n",
    "Rzeczywisty: Chory (1)           FN                   TP\n"
   ],
   "id": "8eedb7dad2a84554"
  },
  {
   "metadata": {},
   "cell_type": "markdown",
   "source": [
    "<h3> Opracowanie i przygotowanie bazy danych do eksperymentów</h3>\n",
    "\n",
    "Na początek sprawdzę w jaki sposób rekordy bazy danych są wyświetlane i w jaki sposób trzeba przygotować bazę danych.\n",
    "\n",
    "OPIS BAZY DANYCH wg. https://www.kaggle.com/datasets/mathchi/diabetes-data-set\n",
    "<b><i>About this file</b></i>\n",
    "<ol>\n",
    "<li><b>Pregnancies:</b> Number of times pregnant</li>\n",
    "<li><b>Glucose:</b> Plasma glucose concentration a 2 hours in an oral glucose tolerance test</li>\n",
    "<li><b>BloodPressure:</b> Diastolic blood pressure (mm Hg)</li>\n",
    "<li><b>SkinThickness:</b> Triceps skin fold thickness (mm)</li>\n",
    "<li><b>Insulin:</b> 2-Hour serum insulin (mu U/ml)</li>\n",
    "<li><b>BMI:</b> Body mass index (weight in kg/(height in m)^2)</li>\n",
    "<li><b>DiabetesPedigreeFunction:</b> Diabetes pedigree function</li>\n",
    "<li><b>Age:</b> Age (years)</li>\n",
    "<li><b>Outcome:</b> Class variable (0 or 1)</li>\n",
    "<ol>\n"
   ],
   "id": "2a9f7fcccfc51027"
  },
  {
   "metadata": {},
   "cell_type": "markdown",
   "source": [
    "<h5><p style=\"color:red\">Użytkownik Elizabeth Camilleri zwróciła uwagę na ważny aspekt reprezentowanych danych. W niektórych rekordach dane nie są kompletne. Pojawia się np. skin thickness = 0. Jest to fizycznie niemożliwe. Spróbuję usunąć nielogiczne rekordy.</h5> </p>\n",
    "\n",
    "<img src=\"Comment_db.png\">"
   ],
   "id": "b4e6a55ddcb8931b"
  },
  {
   "metadata": {
    "ExecuteTime": {
     "end_time": "2024-05-29T06:55:29.093578Z",
     "start_time": "2024-05-29T06:55:27.598767Z"
    }
   },
   "cell_type": "code",
   "source": [
    "import data\n",
    "import pandas as pd\n",
    "\n",
    "diabetes_db=pd.read_csv('diabetes.csv')\n",
    "print(diabetes_db)\n",
    "\n"
   ],
   "id": "d3922ff4e244d6e2",
   "outputs": [
    {
     "name": "stdout",
     "output_type": "stream",
     "text": [
      "     Pregnancies  Glucose  BloodPressure  SkinThickness  Insulin   BMI  \\\n",
      "0              6      148             72             35        0  33.6   \n",
      "1              1       85             66             29        0  26.6   \n",
      "2              8      183             64              0        0  23.3   \n",
      "3              1       89             66             23       94  28.1   \n",
      "4              0      137             40             35      168  43.1   \n",
      "..           ...      ...            ...            ...      ...   ...   \n",
      "763           10      101             76             48      180  32.9   \n",
      "764            2      122             70             27        0  36.8   \n",
      "765            5      121             72             23      112  26.2   \n",
      "766            1      126             60              0        0  30.1   \n",
      "767            1       93             70             31        0  30.4   \n",
      "\n",
      "     DiabetesPedigreeFunction  Age  Outcome  \n",
      "0                       0.627   50        1  \n",
      "1                       0.351   31        0  \n",
      "2                       0.672   32        1  \n",
      "3                       0.167   21        0  \n",
      "4                       2.288   33        1  \n",
      "..                        ...  ...      ...  \n",
      "763                     0.171   63        0  \n",
      "764                     0.340   27        0  \n",
      "765                     0.245   30        0  \n",
      "766                     0.349   47        1  \n",
      "767                     0.315   23        0  \n",
      "\n",
      "[768 rows x 9 columns]\n"
     ]
    }
   ],
   "execution_count": 1
  },
  {
   "metadata": {},
   "cell_type": "markdown",
   "source": [
    "### Sprawdzenie rekordów, które mają 0 w nielogicznych kategoriach: Glucose, BloodPressure, SkinThckness, BMI, Również Age wiemy, że badane miały co najmniej 21 lat\n",
    "Pregnancies i Insulin może wynosić 0. Insulina może wynosić 0 właśnie w przypadku cukrzycy!!!"
   ],
   "id": "370429771c6ccdbf"
  },
  {
   "metadata": {
    "ExecuteTime": {
     "end_time": "2024-05-29T12:43:07.927732Z",
     "start_time": "2024-05-29T12:43:07.914538Z"
    }
   },
   "cell_type": "code",
   "source": [
    "import pandas as pd\n",
    "\n",
    "diabetes_db=pd.read_csv('diabetes.csv')\n",
    "\n",
    "filtered_db = diabetes_db[(diabetes_db['Glucose'] != 0) & \n",
    "                 (diabetes_db['BloodPressure'] != 0) & \n",
    "                 (diabetes_db['SkinThickness'] != 0) & \n",
    "                 (diabetes_db['BMI'] != 0) & \n",
    "                 (diabetes_db['Age'] != 0)]\n",
    "\n",
    "# Zapisz przefiltrowany DataFrame\n",
    "filtered_db.to_csv('filtered_diabetes.csv', index=False)\n",
    "\n",
    "print(filtered_db)"
   ],
   "id": "fec71f7883a12633",
   "outputs": [
    {
     "name": "stdout",
     "output_type": "stream",
     "text": [
      "     Pregnancies  Glucose  BloodPressure  SkinThickness  Insulin   BMI  \\\n",
      "0              6      148             72             35        0  33.6   \n",
      "1              1       85             66             29        0  26.6   \n",
      "3              1       89             66             23       94  28.1   \n",
      "4              0      137             40             35      168  43.1   \n",
      "6              3       78             50             32       88  31.0   \n",
      "..           ...      ...            ...            ...      ...   ...   \n",
      "761            9      170             74             31        0  44.0   \n",
      "763           10      101             76             48      180  32.9   \n",
      "764            2      122             70             27        0  36.8   \n",
      "765            5      121             72             23      112  26.2   \n",
      "767            1       93             70             31        0  30.4   \n",
      "\n",
      "     DiabetesPedigreeFunction  Age  Outcome  \n",
      "0                       0.627   50        1  \n",
      "1                       0.351   31        0  \n",
      "3                       0.167   21        0  \n",
      "4                       2.288   33        1  \n",
      "6                       0.248   26        1  \n",
      "..                        ...  ...      ...  \n",
      "761                     0.403   43        1  \n",
      "763                     0.171   63        0  \n",
      "764                     0.340   27        0  \n",
      "765                     0.245   30        0  \n",
      "767                     0.315   23        0  \n",
      "\n",
      "[532 rows x 9 columns]\n"
     ]
    }
   ],
   "execution_count": 9
  },
  {
   "metadata": {},
   "cell_type": "markdown",
   "source": "Przefiltrowana baza pokazuje około 236 rekordów mniej. ",
   "id": "ba29b42925a423de"
  },
  {
   "metadata": {},
   "cell_type": "markdown",
   "source": "<b><i>po przygotowaniu bazy danych można przystąpić do treści zadania, w kolejnych zadaniach pojawia się:</b></i>",
   "id": "c632f6ae364c755b"
  },
  {
   "metadata": {},
   "cell_type": "code",
   "outputs": [],
   "execution_count": null,
   "source": [
    "X = data.drop('Outcome', axis=1)\n",
    "y = data['Outcome']"
   ],
   "id": "aa29304719bfa750"
  },
  {
   "metadata": {},
   "cell_type": "markdown",
   "source": "Oznacza to tyle, że kolumny outcome możemy użwyać do porównania przewidywanego outcome do rzeczywistego jednak nie powinniśmy używać go",
   "id": "daa67bb411ba3b9b"
  },
  {
   "metadata": {},
   "cell_type": "markdown",
   "source": "## Klasyfikator K-NN",
   "id": "a2046a7c5d046a20"
  },
  {
   "metadata": {},
   "cell_type": "markdown",
   "source": "### K-NN=3",
   "id": "cac31c231d79470a"
  },
  {
   "metadata": {
    "ExecuteTime": {
     "end_time": "2024-05-31T14:33:46.541421Z",
     "start_time": "2024-05-31T14:33:46.517660Z"
    }
   },
   "cell_type": "code",
   "source": [
    "import pandas as pd\n",
    "import numpy as np\n",
    "from sklearn.model_selection import train_test_split\n",
    "from sklearn.neighbors import KNeighborsClassifier\n",
    "from sklearn.naive_bayes import GaussianNB\n",
    "from sklearn.tree import DecisionTreeClassifier\n",
    "from sklearn.metrics import accuracy_score, confusion_matrix\n",
    "import matplotlib.pyplot as plt\n",
    "\n",
    "\n",
    "\n",
    "diabetes_db=pd.read_csv('filtered_diabetes.csv')\n",
    "\n",
    "X = diabetes_db.drop('Outcome', axis=1)\n",
    "y = diabetes_db['Outcome']\n",
    "X_train, X_test, y_train, y_test = train_test_split(X, y, test_size=0.33, random_state=42)\n",
    "\n",
    "knn3 = KNeighborsClassifier(n_neighbors=3)\n",
    "knn3.fit(X_train, y_train)\n",
    "y_pred_knn3 = knn3.predict(X_test)\n",
    "accuracy_knn3 = accuracy_score(y_test, y_pred_knn3)\n",
    "cm_knn3 = confusion_matrix(y_test, y_pred_knn3)\n",
    "print(f'k-NN, k=3 - Dokładność: {accuracy_knn3 * 100:.2f}%')\n",
    "print(f'Macierz błędu:\\n{cm_knn3}')\n"
   ],
   "id": "bf80b4c24b7ad50c",
   "outputs": [
    {
     "name": "stdout",
     "output_type": "stream",
     "text": [
      "k-NN, k=3 - Dokładność: 67.61%\n",
      "Macierz błędu:\n",
      "[[90 31]\n",
      " [26 29]]\n"
     ]
    }
   ],
   "execution_count": 10
  },
  {
   "metadata": {},
   "cell_type": "markdown",
   "source": "### K-NN=5",
   "id": "7f375c7a1d48bbda"
  },
  {
   "metadata": {
    "ExecuteTime": {
     "end_time": "2024-05-31T14:35:44.696302Z",
     "start_time": "2024-05-31T14:35:44.676976Z"
    }
   },
   "cell_type": "code",
   "source": [
    "knn5 = KNeighborsClassifier(n_neighbors=5)\n",
    "knn5.fit(X_train, y_train)\n",
    "y_pred_knn5 = knn5.predict(X_test)\n",
    "accuracy_knn5 = accuracy_score(y_test, y_pred_knn5)\n",
    "cm_knn5 = confusion_matrix(y_test, y_pred_knn5)\n",
    "print(f'k-NN, k=5 - Dokładność: {accuracy_knn5 * 100:.2f}%')\n",
    "print(f'Macierz błędu:\\n{cm_knn5}')"
   ],
   "id": "1e1a1f2f98f4a975",
   "outputs": [
    {
     "name": "stdout",
     "output_type": "stream",
     "text": [
      "k-NN, k=5 - Dokładność: 71.59%\n",
      "Macierz błędu:\n",
      "[[100  21]\n",
      " [ 29  26]]\n"
     ]
    }
   ],
   "execution_count": 12
  },
  {
   "metadata": {},
   "cell_type": "markdown",
   "source": "### K-NN = 11",
   "id": "5803954b60eb607"
  },
  {
   "metadata": {
    "ExecuteTime": {
     "end_time": "2024-05-31T14:37:04.272807Z",
     "start_time": "2024-05-31T14:37:04.254765Z"
    }
   },
   "cell_type": "code",
   "source": [
    "knn11 = KNeighborsClassifier(n_neighbors=11)\n",
    "knn11.fit(X_train, y_train)\n",
    "y_pred_knn11 = knn11.predict(X_test)\n",
    "accuracy_knn11 = accuracy_score(y_test, y_pred_knn11)\n",
    "cm_knn11 = confusion_matrix(y_test, y_pred_knn11)\n",
    "print(f'k-NN, k=11 - Dokładność: {accuracy_knn11 * 100:.2f}%')\n",
    "print(f'Macierz błędu:\\n{cm_knn11}')"
   ],
   "id": "6bd1390f8eda5c89",
   "outputs": [
    {
     "name": "stdout",
     "output_type": "stream",
     "text": [
      "k-NN, k=11 - Dokładność: 75.00%\n",
      "Macierz błędu:\n",
      "[[107  14]\n",
      " [ 30  25]]\n"
     ]
    }
   ],
   "execution_count": 14
  },
  {
   "metadata": {},
   "cell_type": "markdown",
   "source": "## <p style='color:green'> WNIOSKI: <p> <h6> Im większe k tym większa dokładnośc przewidywanego wyniku. Spróbujmy dla większych wartości K:</h6>",
   "id": "1e11c8eb4592bf36"
  },
  {
   "metadata": {
    "ExecuteTime": {
     "end_time": "2024-05-31T14:43:51.854776Z",
     "start_time": "2024-05-31T14:43:51.836461Z"
    }
   },
   "cell_type": "code",
   "source": [
    "knn12 = KNeighborsClassifier(n_neighbors=12)\n",
    "knn12.fit(X_train, y_train)\n",
    "y_pred_knn12 = knn12.predict(X_test)\n",
    "accuracy_knn12 = accuracy_score(y_test, y_pred_knn12)\n",
    "cm_knn12 = confusion_matrix(y_test, y_pred_knn12)\n",
    "print(f'k-NN, k=12 - Dokładność: {accuracy_knn12 * 100:.2f}%')\n",
    "print(f'Macierz błędu:\\n{cm_knn12}')"
   ],
   "id": "e4b177274000fcba",
   "outputs": [
    {
     "name": "stdout",
     "output_type": "stream",
     "text": [
      "k-NN, k=12 - Dokładność: 75.00%\n",
      "Macierz błędu:\n",
      "[[109  12]\n",
      " [ 32  23]]\n"
     ]
    }
   ],
   "execution_count": 20
  },
  {
   "metadata": {
    "ExecuteTime": {
     "end_time": "2024-05-31T14:42:57.181888Z",
     "start_time": "2024-05-31T14:42:57.099395Z"
    }
   },
   "cell_type": "code",
   "source": [
    "for x in range (0,6):\n",
    "    knn13 = KNeighborsClassifier(n_neighbors=13)\n",
    "    knn13.fit(X_train, y_train)\n",
    "    y_pred_knn13 = knn13.predict(X_test)\n",
    "    accuracy_knn13 = accuracy_score(y_test, y_pred_knn13)\n",
    "    cm_knn13 = confusion_matrix(y_test, y_pred_knn13)\n",
    "    print(f'k-NN, k=13 - Dokładność: {accuracy_knn13 * 100:.2f}%')\n",
    "print(f'Macierz błędu:\\n{cm_knn13}')"
   ],
   "id": "9efc8eb02b6bb35",
   "outputs": [
    {
     "name": "stdout",
     "output_type": "stream",
     "text": [
      "k-NN, k=13 - Dokładność: 74.43%\n",
      "k-NN, k=13 - Dokładność: 74.43%\n",
      "k-NN, k=13 - Dokładność: 74.43%\n",
      "k-NN, k=13 - Dokładność: 74.43%\n",
      "k-NN, k=13 - Dokładność: 74.43%\n",
      "k-NN, k=13 - Dokładność: 74.43%\n",
      "Macierz błędu:\n",
      "[[104  17]\n",
      " [ 28  27]]\n"
     ]
    }
   ],
   "execution_count": 19
  },
  {
   "metadata": {
    "ExecuteTime": {
     "end_time": "2024-05-31T14:44:39.298945Z",
     "start_time": "2024-05-31T14:44:39.216592Z"
    }
   },
   "cell_type": "code",
   "source": [
    "for x in range (0,6): #tutaj sprawdzam czy wielokrotne przeiterowanie po danych zmienia dokładność\n",
    "    knn16 = KNeighborsClassifier(n_neighbors=16)\n",
    "    knn16.fit(X_train, y_train)\n",
    "    y_pred_knn16 = knn16.predict(X_test)\n",
    "    accuracy_knn16 = accuracy_score(y_test, y_pred_knn16)\n",
    "    cm_knn16 = confusion_matrix(y_test, y_pred_knn16)\n",
    "    print(f'k-NN, k=16 - Dokładność: {accuracy_knn16 * 100:.2f}%')\n",
    "print(f'Macierz błędu:\\n{cm_knn16}')"
   ],
   "id": "4442cbfc04817dd6",
   "outputs": [
    {
     "name": "stdout",
     "output_type": "stream",
     "text": [
      "k-NN, k=16 - Dokładność: 74.43%\n",
      "k-NN, k=16 - Dokładność: 74.43%\n",
      "k-NN, k=16 - Dokładność: 74.43%\n",
      "k-NN, k=16 - Dokładność: 74.43%\n",
      "k-NN, k=16 - Dokładność: 74.43%\n",
      "k-NN, k=16 - Dokładność: 74.43%\n",
      "Macierz błędu:\n",
      "[[105  16]\n",
      " [ 29  26]]\n"
     ]
    }
   ],
   "execution_count": 21
  },
  {
   "metadata": {},
   "cell_type": "markdown",
   "source": "<h4><p style='color:green'>Dla K=11,12 dokładność jest największa później spada. Wskazuje to że znaleźliśmy Best k. Mniejsze wartości k powodują, że algorytm zbiera dane zakłócające, zbyt duże wartości powodują ignorowanie istotnych danych.</h4></p>",
   "id": "1890f397feadc47e"
  },
  {
   "metadata": {},
   "cell_type": "markdown",
   "source": "## Klasyfikator naiwny bayesowski",
   "id": "e561d7ae8057d6b5"
  },
  {
   "metadata": {
    "ExecuteTime": {
     "end_time": "2024-05-31T19:55:30.006915Z",
     "start_time": "2024-05-31T19:55:29.983085Z"
    }
   },
   "cell_type": "code",
   "source": [
    " for i in range(0,5):  \n",
    "    nb = GaussianNB()\n",
    "    nb.fit(X_train, y_train)\n",
    "    y_pred_nb = nb.predict(X_test)\n",
    "    accuracy_nb = accuracy_score(y_test, y_pred_nb)\n",
    "    cm_nb = confusion_matrix(y_test, y_pred_nb)\n",
    "    print(f'Naiwny bayesowski - Dokładność: {accuracy_nb * 100:.2f}%')\n",
    "print(f'Macierz błędu:\\n{cm_nb}')\n"
   ],
   "id": "d7f5056d7064e810",
   "outputs": [
    {
     "name": "stdout",
     "output_type": "stream",
     "text": [
      "Naiwny bayesowski - Dokładność: 72.16%\n",
      "Naiwny bayesowski - Dokładność: 72.16%\n",
      "Naiwny bayesowski - Dokładność: 72.16%\n",
      "Naiwny bayesowski - Dokładność: 72.16%\n",
      "Naiwny bayesowski - Dokładność: 72.16%\n",
      "Macierz błędu:\n",
      "[[92 29]\n",
      " [20 35]]\n"
     ]
    }
   ],
   "execution_count": 24
  },
  {
   "metadata": {},
   "cell_type": "markdown",
   "source": "## Drzewa Decyzyjne\n",
   "id": "b46e86d930bfc14f"
  },
  {
   "metadata": {
    "ExecuteTime": {
     "end_time": "2024-05-31T19:56:38.518531Z",
     "start_time": "2024-05-31T19:56:38.490527Z"
    }
   },
   "cell_type": "code",
   "source": [
    " for x in range(0,5):\n",
    "    dt = DecisionTreeClassifier()\n",
    "    dt.fit(X_train, y_train)\n",
    "    y_pred_dt = dt.predict(X_test)\n",
    "    accuracy_dt = accuracy_score(y_test, y_pred_dt)\n",
    "    cm_dt = confusion_matrix(y_test, y_pred_dt)\n",
    "    print(f'Drzewa decyzyjne - Dokładność: {accuracy_dt * 100:.2f}%')\n",
    "print(f'Macierz błędu:\\n{cm_dt}')\n"
   ],
   "id": "3ee195564f60056e",
   "outputs": [
    {
     "name": "stdout",
     "output_type": "stream",
     "text": [
      "Drzewa decyzyjne - Dokładność: 72.73%\n",
      "Drzewa decyzyjne - Dokładność: 71.59%\n",
      "Drzewa decyzyjne - Dokładność: 72.73%\n",
      "Drzewa decyzyjne - Dokładność: 73.86%\n",
      "Drzewa decyzyjne - Dokładność: 73.86%\n",
      "Macierz błędu:\n",
      "[[102  19]\n",
      " [ 27  28]]\n"
     ]
    }
   ],
   "execution_count": 25
  },
  {
   "metadata": {},
   "cell_type": "markdown",
   "source": "<b><h4><p style='color:green'>WARTO ZAUWAŻYĆ, ŻE PO WIELOKROTNYM PRZEITEROWANIU PO DANYCH ALGORYTM NIEJAKO SIĘ ICH UCZY I DOKŁADNOŚĆ SIĘ POPRAWIA</p></h4></b>",
   "id": "31b248d937fb43b"
  },
  {
   "metadata": {
    "ExecuteTime": {
     "end_time": "2024-05-31T19:59:30.871542Z",
     "start_time": "2024-05-31T19:59:30.799151Z"
    }
   },
   "cell_type": "code",
   "source": [
    " for x in range(0,15):\n",
    "    dt = DecisionTreeClassifier()\n",
    "    dt.fit(X_train, y_train)\n",
    "    y_pred_dt = dt.predict(X_test)\n",
    "    accuracy_dt = accuracy_score(y_test, y_pred_dt)\n",
    "    cm_dt = confusion_matrix(y_test, y_pred_dt)\n",
    "    print(f'Drzewa decyzyjne - Dokładność: {accuracy_dt * 100:.2f}%')\n",
    "print(f'Macierz błędu:\\n{cm_dt}')"
   ],
   "id": "2f142e8eb8b05cdf",
   "outputs": [
    {
     "name": "stdout",
     "output_type": "stream",
     "text": [
      "Drzewa decyzyjne - Dokładność: 73.30%\n",
      "Drzewa decyzyjne - Dokładność: 72.73%\n",
      "Drzewa decyzyjne - Dokładność: 71.59%\n",
      "Drzewa decyzyjne - Dokładność: 73.86%\n",
      "Drzewa decyzyjne - Dokładność: 70.45%\n",
      "Drzewa decyzyjne - Dokładność: 71.59%\n",
      "Drzewa decyzyjne - Dokładność: 69.32%\n",
      "Drzewa decyzyjne - Dokładność: 71.02%\n",
      "Drzewa decyzyjne - Dokładność: 72.16%\n",
      "Drzewa decyzyjne - Dokładność: 71.02%\n",
      "Drzewa decyzyjne - Dokładność: 72.73%\n",
      "Drzewa decyzyjne - Dokładność: 68.75%\n",
      "Drzewa decyzyjne - Dokładność: 72.16%\n",
      "Drzewa decyzyjne - Dokładność: 74.43%\n",
      "Drzewa decyzyjne - Dokładność: 73.30%\n",
      "Macierz błędu:\n",
      "[[101  20]\n",
      " [ 27  28]]\n"
     ]
    }
   ],
   "execution_count": 26
  },
  {
   "metadata": {
    "ExecuteTime": {
     "end_time": "2024-05-31T20:03:42.227761Z",
     "start_time": "2024-05-31T20:03:42.037126Z"
    }
   },
   "cell_type": "code",
   "source": [
    "# List to store accuracy scores\n",
    "accuracy_scores = []\n",
    "\n",
    "for x in range(0, 20):\n",
    "    dt = DecisionTreeClassifier()\n",
    "    dt.fit(X_train, y_train)\n",
    "    y_pred_dt = dt.predict(X_test)\n",
    "    accuracy_dt = accuracy_score(y_test, y_pred_dt)\n",
    "    \n",
    "    # Append accuracy to list\n",
    "    accuracy_scores.append(accuracy_dt)\n",
    "    \n",
    "    print(f'Drzewa decyzyjne - Dokładność: {accuracy_dt * 100:.2f}%')\n",
    "\n",
    "# Plotting accuracy scores\n",
    "plt.figure(figsize=(10, 6))\n",
    "plt.plot(range(0, 20), accuracy_scores, marker='o', linestyle='-', color='b')\n",
    "plt.title('Dokładność drzewa decyzyjnego w funkcji iteracji')\n",
    "plt.xlabel('Iteracje')\n",
    "plt.ylabel('Dokładność')\n",
    "plt.ylim(0, 1)\n",
    "plt.grid(True)\n",
    "plt.show()\n"
   ],
   "id": "3230aec6e4850e57",
   "outputs": [
    {
     "name": "stdout",
     "output_type": "stream",
     "text": [
      "Drzewa decyzyjne - Dokładność: 72.16%\n",
      "Drzewa decyzyjne - Dokładność: 74.43%\n",
      "Drzewa decyzyjne - Dokładność: 72.73%\n",
      "Drzewa decyzyjne - Dokładność: 71.59%\n",
      "Drzewa decyzyjne - Dokładność: 71.59%\n",
      "Drzewa decyzyjne - Dokładność: 70.45%\n",
      "Drzewa decyzyjne - Dokładność: 68.75%\n",
      "Drzewa decyzyjne - Dokładność: 72.73%\n",
      "Drzewa decyzyjne - Dokładność: 71.59%\n",
      "Drzewa decyzyjne - Dokładność: 72.73%\n",
      "Drzewa decyzyjne - Dokładność: 71.02%\n",
      "Drzewa decyzyjne - Dokładność: 73.86%\n",
      "Drzewa decyzyjne - Dokładność: 72.16%\n",
      "Drzewa decyzyjne - Dokładność: 72.73%\n",
      "Drzewa decyzyjne - Dokładność: 72.16%\n",
      "Drzewa decyzyjne - Dokładność: 72.16%\n",
      "Drzewa decyzyjne - Dokładność: 72.16%\n",
      "Drzewa decyzyjne - Dokładność: 73.86%\n",
      "Drzewa decyzyjne - Dokładność: 73.30%\n",
      "Drzewa decyzyjne - Dokładność: 72.73%\n"
     ]
    },
    {
     "data": {
      "text/plain": [
       "<Figure size 1000x600 with 1 Axes>"
      ],
      "image/png": "[encoded data removed]"
     },
     "metadata": {},
     "output_type": "display_data"
    }
   ],
   "execution_count": 33
  },
  {
   "metadata": {},
   "cell_type": "markdown",
   "source": [
    "## Graficzna reprezentacja dokładności dla 20 iteracji. Jak widać mamy tu podejżenie losowości otrzymywanej dokładności. Powodem tego może być:\n",
    "<ol>\n",
    "<li>Losowość algorytmu:\n",
    "\n",
    "Algorytmy drzewa decyzyjnego mają komponenty losowe, takie jak wybór podziałów w węzłach, jeśli wiele podziałów daje takie same wyniki. Jeśli losowość nie jest ustalona za pomocą ziarna (random_state), różnice w wynikach pojawiają się nawet przy tym samym zbiorze danych.</li>\n",
    "<li>Niewielki zbiór danych testowych: (170 rekordów)\n",
    "\n",
    "W przypadku małych lub umiarkowanych rozmiarów zbiorów danych, nawet niewielkie zmiany w danych testowych mogą prowadzić do zauważalnych wahań dokładności.</li>\n",
    "<li>Overfitting (nadmierne dopasowanie):\n",
    "\n",
    "Drzewa decyzyjne są znane z tendencji do nadmiernego dopasowania się do danych treningowych. Nawet niewielkie zmiany w danych mogą prowadzić do różnych struktur drzew, co może skutkować różnymi wynikami na zbiorze testowym.</li>\n"
   ],
   "id": "85f1cd3e9aba3031"
  },
  {
   "metadata": {},
   "cell_type": "markdown",
   "source": "## Naniesienie dokładności wszystkich klasyfikatorów na wykres słupkowy",
   "id": "18211589a7a3fe46"
  },
  {
   "metadata": {
    "ExecuteTime": {
     "end_time": "2024-05-31T20:04:25.480891Z",
     "start_time": "2024-05-31T20:04:25.376692Z"
    }
   },
   "cell_type": "code",
   "source": [
    "labels = ['k-NN (k=3)', 'k-NN (k=5)', 'k-NN (k=11)', 'Naive Bayes', 'Decision Tree']\n",
    "accuracies = [accuracy_knn3 * 100, accuracy_knn5 * 100, accuracy_knn11 * 100, accuracy_nb * 100, accuracy_dt * 100]\n",
    "\n",
    "plt.figure(figsize=(10, 6))\n",
    "plt.bar(labels, accuracies, color=['blue', 'green', 'red', 'cyan', 'magenta'])\n",
    "plt.xlabel('Klasyfikator')\n",
    "plt.ylabel('Dokładność (%)')\n",
    "plt.title('Porównanie dokładności klasyfikatorów')\n",
    "plt.ylim([0, 100])\n",
    "plt.show()\n"
   ],
   "id": "6cc9e793f0ed9307",
   "outputs": [
    {
     "data": {
      "text/plain": [
       "<Figure size 1000x600 with 1 Axes>"
      ],
      "image/png": "[encoded data removed]"
     },
     "metadata": {},
     "output_type": "display_data"
    }
   ],
   "execution_count": 34
  },
  {
   "metadata": {},
   "cell_type": "markdown",
   "source": "",
   "id": "53d1b2a454471a"
  },
  {
   "metadata": {},
   "cell_type": "markdown",
   "source": [
    "## Wnioski i Odpowiedź na dodatkowe pytanie:\n",
    "Jak widzimy w kwestii dokładności najlepszym wyborem okazał się klasyfikator k-NN z k=11, jednak nie jest on najbezpieczniejszy dla pacjentów. W macierzy błędu interesują nas wyniki fałszywie negatywne, które mogą spowodować odesłanie chorego pacjenta do domu. W przypadku najmniejszej ilości fałszywie negatywnych wyników wygrywa skutecznością algorytm <b><i>naiwny bayesowski.<i></b></br>\n",
    "\n",
    "Podsumowując, analiza danych dotyczących cukrzycy obejmowała ocenę skuteczności kilku klasyfikatorów. Klasyfikator KNN (k=11) osiągnął najwyższą dokładność (75%), co wskazuje na jego dobrą wydajność. Jednak w kontekście minimalizacji fałszywie negatywnych wyników (False Negative), gdzie chorych klasyfikuje się jako zdrowych, najlepszy okazał się naiwny Bayes z najniższą liczbą FN (20). Ostatecznie, dobór algorytmu powinien zależeć od celu w jakim go stosujemy. "
   ],
   "id": "1f84c2bcd432d600"
  }
 ],
 "metadata": {
  "kernelspec": {
   "display_name": "Python 3",
   "language": "python",
   "name": "python3"
  },
  "language_info": {
   "codemirror_mode": {
    "name": "ipython",
    "version": 2
   },
   "file_extension": ".py",
   "mimetype": "text/x-python",
   "name": "python",
   "nbconvert_exporter": "python",
   "pygments_lexer": "ipython2",
   "version": "2.7.6"
  }
 },
 "nbformat": 4,
 "nbformat_minor": 5
}
