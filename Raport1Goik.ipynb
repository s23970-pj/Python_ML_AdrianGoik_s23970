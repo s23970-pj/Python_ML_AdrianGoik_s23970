{
 "cells": [
  {
   "metadata": {},
   "cell_type": "markdown",
   "source": [
    "# RAPORT 1 - KLASYFIKACJA \n",
    "<h4> Adrian Goik s23970 28.05.2024 - Indywidualny Program Studiów</h4>"
   ],
   "id": "eab960b5a52c9cad"
  },
  {
   "metadata": {},
   "cell_type": "markdown",
   "source": [
    "<h3>TREŚĆ ZADANIA: Zadanie 3</h3>\n",
    "\n",
    "W załączonym zbiorze danych <b><i>diabetes.csv </b></i>znajdują się dane kobiet indiańskiego pochodzenia z USA, które zachorowały lub nie zachorowały na cukrzycę. Klasyfikator ma na celu diagnozowanie choroby na podstawie parametrów medycznych kobiety. Sprawdź jak działają poznane klasyfikatory na tej bazie danych.<br> Dokonaj porównania:\n",
    "\n",
    "<ol>\n",
    "<li><b><i>k-NN, k=3</b></i></li>\n",
    "<li><b><i>k-NN, k=5</b></i></li>\n",
    "<li><b><i>k-NN, k=11</b></i></li>\n",
    "<li><b><i>Naiwny bayesowski.</b></i></li>\n",
    "<li><b><i>Drzewa decyzyjne.</b></i></li>\n",
    "<ol>"
   ],
   "id": "67cab8796031ae3a"
  },
  {
   "metadata": {},
   "cell_type": "markdown",
   "source": [
    "# <p style=\"color:red\">DO USUNIĘCIA!!</p>\n",
    "Na wyższą liczbę punktów mają wpływ następujące rzeczy:</br> \n",
    "<ol>\n",
    "<li>Dobra struktura sprawozdania (wprowadzenie, eksperymenty, objaśnienia, interpretacje).</li>\n",
    "<li>Szczegółowość i dokładność eksperymentów, dodawanie komentarzy i własnych interpretacji wyników</li>\n",
    "<li>Dobre przygotowanie bazy danych do eksperymentów</li>\n",
    "<li>Przejrzystość i estetyka prezentacji</li>\n",
    "<li>Nadprogramowe analizy mile widziane…</li>\n",
    "</ol>"
   ],
   "id": "8a4d1afa8b3caf00"
  },
  {
   "metadata": {},
   "cell_type": "markdown",
   "source": [
    "<h3> Wprowadzenie do wykonywanego zadania</h3>\n",
    "\n",
    "tutaj zrobić wprowadzenie, uzupełniać w trakcie wykonywania i aktualizować o anaalizy\n",
    "\n",
    "DODAJ: opis bazy danych i jakoś ją ogarnij -- jak to zrobić google ogarnaij sam\n"
   ],
   "id": "9c06573fd875709a"
  },
  {
   "metadata": {},
   "cell_type": "markdown",
   "source": [
    "<h3> Opracowanie i przygotowanie bazy danych do eksperymentów</h3>\n",
    "\n",
    "Na początek sprawdzę w jaki sposób rekordy bazy danych są wyświetlane i w jaki sposób trzeba przygotować bazę danych.\n",
    "\n",
    "OPIS BAZY DANYCH wg. https://www.kaggle.com/datasets/mathchi/diabetes-data-set\n",
    "<b><i>About this file</b></i>\n",
    "<ol>\n",
    "<li><b>Pregnancies:</b> Number of times pregnant</li>\n",
    "<li><b>Glucose:</b> Plasma glucose concentration a 2 hours in an oral glucose tolerance test</li>\n",
    "<li><b>BloodPressure:</b> Diastolic blood pressure (mm Hg)</li>\n",
    "<li><b>SkinThickness:</b> Triceps skin fold thickness (mm)</li>\n",
    "<li><b>Insulin:</b> 2-Hour serum insulin (mu U/ml)</li>\n",
    "<li><b>BMI:</b> Body mass index (weight in kg/(height in m)^2)</li>\n",
    "<li><b>DiabetesPedigreeFunction:</b> Diabetes pedigree function</li>\n",
    "<li><b>Age:</b> Age (years)</li>\n",
    "<li><b>Outcome:</b> Class variable (0 or 1)</li>\n",
    "<ol>\n"
   ],
   "id": "2a9f7fcccfc51027"
  },
  {
   "metadata": {},
   "cell_type": "markdown",
   "source": [
    "<h5><p style=\"color:red\">Użytkownik Elizabeth Camilleri zwróciła uwagę na ważny aspekt reprezentowanych danych. W niektórych rekordach dane nie są kompletne. Pojawia się np. skin thickness = 0. Jest to fizycznie niemożliwe. Spróbuję usunąć nielogiczne rekordy.</h5> </p>\n",
    "\n",
    "<img src=\"Comment_db.png\">"
   ],
   "id": "b4e6a55ddcb8931b"
  },
  {
   "metadata": {
    "ExecuteTime": {
     "end_time": "2024-05-29T06:55:29.093578Z",
     "start_time": "2024-05-29T06:55:27.598767Z"
    }
   },
   "cell_type": "code",
   "source": [
    "import pandas as pd\n",
    "\n",
    "diabetes_db=pd.read_csv('diabetes.csv')\n",
    "print(diabetes_db)\n",
    "\n"
   ],
   "id": "d3922ff4e244d6e2",
   "outputs": [
    {
     "name": "stdout",
     "output_type": "stream",
     "text": [
      "     Pregnancies  Glucose  BloodPressure  SkinThickness  Insulin   BMI  \\\n",
      "0              6      148             72             35        0  33.6   \n",
      "1              1       85             66             29        0  26.6   \n",
      "2              8      183             64              0        0  23.3   \n",
      "3              1       89             66             23       94  28.1   \n",
      "4              0      137             40             35      168  43.1   \n",
      "..           ...      ...            ...            ...      ...   ...   \n",
      "763           10      101             76             48      180  32.9   \n",
      "764            2      122             70             27        0  36.8   \n",
      "765            5      121             72             23      112  26.2   \n",
      "766            1      126             60              0        0  30.1   \n",
      "767            1       93             70             31        0  30.4   \n",
      "\n",
      "     DiabetesPedigreeFunction  Age  Outcome  \n",
      "0                       0.627   50        1  \n",
      "1                       0.351   31        0  \n",
      "2                       0.672   32        1  \n",
      "3                       0.167   21        0  \n",
      "4                       2.288   33        1  \n",
      "..                        ...  ...      ...  \n",
      "763                     0.171   63        0  \n",
      "764                     0.340   27        0  \n",
      "765                     0.245   30        0  \n",
      "766                     0.349   47        1  \n",
      "767                     0.315   23        0  \n",
      "\n",
      "[768 rows x 9 columns]\n"
     ]
    }
   ],
   "execution_count": 1
  },
  {
   "metadata": {},
   "cell_type": "markdown",
   "source": [
    "### Sprawdzenie rekordów, które mają 0 w nielogicznych kategoriach: Glucose, BloodPressure, SkinThckness, BMI, Również Age wiemy, że badane miały co najmniej 21 lat\n",
    "Pregnancies i Insulin może wynosić 0. Insulina może wynosić 0 właśnie w przypadku cukrzycy!!!"
   ],
   "id": "370429771c6ccdbf"
  },
  {
   "metadata": {
    "ExecuteTime": {
     "end_time": "2024-05-29T12:43:07.927732Z",
     "start_time": "2024-05-29T12:43:07.914538Z"
    }
   },
   "cell_type": "code",
   "source": [
    "import pandas as pd\n",
    "\n",
    "diabetes_db=pd.read_csv('diabetes.csv')\n",
    "\n",
    "filtered_db = diabetes_db[(diabetes_db['Glucose'] != 0) & \n",
    "                 (diabetes_db['BloodPressure'] != 0) & \n",
    "                 (diabetes_db['SkinThickness'] != 0) & \n",
    "                 (diabetes_db['BMI'] != 0) & \n",
    "                 (diabetes_db['Age'] != 0)]\n",
    "\n",
    "# Zapisz przefiltrowany DataFrame\n",
    "filtered_db.to_csv('filtered_diabetes.csv', index=False)\n",
    "\n",
    "print(filtered_db)"
   ],
   "id": "fec71f7883a12633",
   "outputs": [
    {
     "name": "stdout",
     "output_type": "stream",
     "text": [
      "     Pregnancies  Glucose  BloodPressure  SkinThickness  Insulin   BMI  \\\n",
      "0              6      148             72             35        0  33.6   \n",
      "1              1       85             66             29        0  26.6   \n",
      "3              1       89             66             23       94  28.1   \n",
      "4              0      137             40             35      168  43.1   \n",
      "6              3       78             50             32       88  31.0   \n",
      "..           ...      ...            ...            ...      ...   ...   \n",
      "761            9      170             74             31        0  44.0   \n",
      "763           10      101             76             48      180  32.9   \n",
      "764            2      122             70             27        0  36.8   \n",
      "765            5      121             72             23      112  26.2   \n",
      "767            1       93             70             31        0  30.4   \n",
      "\n",
      "     DiabetesPedigreeFunction  Age  Outcome  \n",
      "0                       0.627   50        1  \n",
      "1                       0.351   31        0  \n",
      "3                       0.167   21        0  \n",
      "4                       2.288   33        1  \n",
      "6                       0.248   26        1  \n",
      "..                        ...  ...      ...  \n",
      "761                     0.403   43        1  \n",
      "763                     0.171   63        0  \n",
      "764                     0.340   27        0  \n",
      "765                     0.245   30        0  \n",
      "767                     0.315   23        0  \n",
      "\n",
      "[532 rows x 9 columns]\n"
     ]
    }
   ],
   "execution_count": 9
  },
  {
   "metadata": {},
   "cell_type": "markdown",
   "source": "Przefiltrowana baza pokazuje około 236 rekordów mniej. ",
   "id": "ba29b42925a423de"
  },
  {
   "metadata": {},
   "cell_type": "markdown",
   "source": "<b><i>po przygotowaniu bazy danych można przystąpić do treści zadania</b></i>",
   "id": "c632f6ae364c755b"
  },
  {
   "metadata": {},
   "cell_type": "markdown",
   "source": "## Klasyfikator K-NN",
   "id": "a2046a7c5d046a20"
  },
  {
   "metadata": {
    "ExecuteTime": {
     "end_time": "2024-05-30T15:08:30.820825Z",
     "start_time": "2024-05-30T15:08:30.753205Z"
    }
   },
   "cell_type": "code",
   "source": [
    "import pandas as pd\n",
    "from sklearn.model_selection import train_test_split\n",
    "from sklearn.preprocessing import StandardScaler\n",
    "from sklearn.neighbors import KNeighborsClassifier\n",
    "from sklearn.metrics import accuracy_score, classification_report\n",
    "\n",
    "\n",
    "\n",
    "diabetes_db=pd.read_csv('filtered_diabetes.csv')\n",
    "\n",
    "# Prepare the data for classification\n",
    "X = diabetes_db.drop('Outcome', axis=1)  # Features\n",
    "y = diabetes_db['Outcome']  # Target variable\n",
    "\n",
    "# Split the data into training and testing sets\n",
    "X_train, X_test, y_train, y_test = train_test_split(X, y, test_size=0.33, random_state=42)\n",
    "\n",
    "# Standardize the features\n",
    "scaler = StandardScaler()\n",
    "X_train = scaler.fit_transform(X_train)\n",
    "X_test = scaler.transform(X_test)\n",
    "\n",
    "# Function to train and evaluate k-NN classifier\n",
    "def evaluate_knn(k):\n",
    "    knn = KNeighborsClassifier(n_neighbors=k)\n",
    "    knn.fit(X_train, y_train)\n",
    "    y_pred = knn.predict(X_test)\n",
    "    accuracy = accuracy_score(y_test, y_pred)\n",
    "    report = classification_report(y_test, y_pred)\n",
    "    return accuracy, report\n",
    "\n",
    "# Train and evaluate k-NN classifiers with k=3, k=5, k=11\n",
    "results = {}\n",
    "for k in [3, 5, 11]:\n",
    "    accuracy, report = evaluate_knn(k)\n",
    "    results[k] = {'accuracy': accuracy, 'report': report}\n",
    "\n",
    "# Print the results\n",
    "for k, result in results.items():\n",
    "    print(f\"k-NN with k={k}:\")\n",
    "    print(f\"Accuracy: {result['accuracy']}\")\n",
    "    print(\"Classification Report:\")\n",
    "    print(result['report'])\n",
    "    print(\"\\n\")"
   ],
   "id": "bf80b4c24b7ad50c",
   "outputs": [
    {
     "name": "stdout",
     "output_type": "stream",
     "text": [
      "k-NN with k=3:\n",
      "Accuracy: 0.7329545454545454\n",
      "Classification Report:\n",
      "              precision    recall  f1-score   support\n",
      "\n",
      "           0       0.78      0.85      0.81       121\n",
      "           1       0.59      0.47      0.53        55\n",
      "\n",
      "    accuracy                           0.73       176\n",
      "   macro avg       0.69      0.66      0.67       176\n",
      "weighted avg       0.72      0.73      0.72       176\n",
      "\n",
      "\n",
      "\n",
      "k-NN with k=5:\n",
      "Accuracy: 0.7556818181818182\n",
      "Classification Report:\n",
      "              precision    recall  f1-score   support\n",
      "\n",
      "           0       0.80      0.87      0.83       121\n",
      "           1       0.64      0.51      0.57        55\n",
      "\n",
      "    accuracy                           0.76       176\n",
      "   macro avg       0.72      0.69      0.70       176\n",
      "weighted avg       0.75      0.76      0.75       176\n",
      "\n",
      "\n",
      "\n",
      "k-NN with k=11:\n",
      "Accuracy: 0.7215909090909091\n",
      "Classification Report:\n",
      "              precision    recall  f1-score   support\n",
      "\n",
      "           0       0.76      0.88      0.81       121\n",
      "           1       0.58      0.38      0.46        55\n",
      "\n",
      "    accuracy                           0.72       176\n",
      "   macro avg       0.67      0.63      0.64       176\n",
      "weighted avg       0.70      0.72      0.70       176\n",
      "\n",
      "\n",
      "\n"
     ]
    }
   ],
   "execution_count": 2
  },
  {
   "metadata": {},
   "cell_type": "markdown",
   "source": "## Klasyfikator naiwny bayesowski",
   "id": "e561d7ae8057d6b5"
  },
  {
   "metadata": {
    "ExecuteTime": {
     "end_time": "2024-05-30T15:10:17.449829Z",
     "start_time": "2024-05-30T15:10:17.428041Z"
    }
   },
   "cell_type": "code",
   "source": [
    "import pandas as pd\n",
    "from sklearn.model_selection import train_test_split\n",
    "from sklearn.preprocessing import StandardScaler\n",
    "from sklearn.naive_bayes import GaussianNB\n",
    "from sklearn.metrics import accuracy_score, classification_report\n",
    "\n",
    "diabetes_db=pd.read_csv('filtered_diabetes.csv')\n",
    "\n",
    "# Prepare the data for classification\n",
    "X = diabetes_db.drop('Outcome', axis=1)  # Features\n",
    "y = diabetes_db['Outcome']  # Target variable\n",
    "\n",
    "# Split the data into training and testing sets\n",
    "X_train, X_test, y_train, y_test = train_test_split(X, y, test_size=0.2, random_state=42)\n",
    "\n",
    "# Standardize the features\n",
    "scaler = StandardScaler()\n",
    "X_train = scaler.fit_transform(X_train)\n",
    "X_test = scaler.transform(X_test)\n",
    "\n",
    "# Initialize and train the Gaussian Naive Bayes classifier\n",
    "nb_classifier = GaussianNB()\n",
    "nb_classifier.fit(X_train, y_train)\n",
    "\n",
    "# Predict and evaluate the model\n",
    "y_pred = nb_classifier.predict(X_test)\n",
    "accuracy = accuracy_score(y_test, y_pred)\n",
    "report = classification_report(y_test, y_pred)\n",
    "\n",
    "# Print the results\n",
    "print(f\"Accuracy: {accuracy}\")\n",
    "print(\"Classification Report:\")\n",
    "print(report)\n"
   ],
   "id": "d7f5056d7064e810",
   "outputs": [
    {
     "name": "stdout",
     "output_type": "stream",
     "text": [
      "Accuracy: 0.7757009345794392\n",
      "Classification Report:\n",
      "              precision    recall  f1-score   support\n",
      "\n",
      "           0       0.87      0.80      0.83        74\n",
      "           1       0.62      0.73      0.67        33\n",
      "\n",
      "    accuracy                           0.78       107\n",
      "   macro avg       0.74      0.76      0.75       107\n",
      "weighted avg       0.79      0.78      0.78       107\n",
      "\n"
     ]
    }
   ],
   "execution_count": 3
  },
  {
   "metadata": {},
   "cell_type": "markdown",
   "source": "## Drzewa Decyzyjne\n",
   "id": "b46e86d930bfc14f"
  },
  {
   "metadata": {
    "ExecuteTime": {
     "end_time": "2024-05-30T21:05:32.085868Z",
     "start_time": "2024-05-30T21:05:32.063193Z"
    }
   },
   "cell_type": "code",
   "source": [
    "import pandas as pd\n",
    "from sklearn.model_selection import train_test_split\n",
    "from sklearn.preprocessing import StandardScaler\n",
    "from sklearn.tree import DecisionTreeClassifier\n",
    "from sklearn.metrics import accuracy_score, classification_report\n",
    "\n",
    "diabetes_db=pd.read_csv('filtered_diabetes.csv')\n",
    "# Prepare the data for classification\n",
    "X = diabetes_db.drop('Outcome', axis=1)  # Features\n",
    "y = diabetes_db['Outcome']  # Target variable\n",
    "\n",
    "# Split the data into training and testing sets\n",
    "X_train, X_test, y_train, y_test = train_test_split(X, y, test_size=0.2, random_state=42)\n",
    "\n",
    "# Standardize the features\n",
    "scaler = StandardScaler()\n",
    "X_train = scaler.fit_transform(X_train)\n",
    "X_test = scaler.transform(X_test)\n",
    "\n",
    "# Initialize and train the Decision Tree classifier\n",
    "tree_classifier = DecisionTreeClassifier(random_state=42)\n",
    "tree_classifier.fit(X_train, y_train)\n",
    "\n",
    "# Predict and evaluate the model\n",
    "y_pred = tree_classifier.predict(X_test)\n",
    "accuracy_tree = accuracy_score(y_test, y_pred)  # Store accuracy in the variable 'accuracy_tree'\n",
    "report = classification_report(y_test, y_pred)\n",
    "\n",
    "# Print the results in the specified format\n",
    "print(f\"Accuracy:  {accuracy_tree:.10f}\")  # Format the accuracy to match the example\n",
    "print(\"Classification Report:\")\n",
    "print(report)\n"
   ],
   "id": "3ee195564f60056e",
   "outputs": [
    {
     "name": "stdout",
     "output_type": "stream",
     "text": [
      "Accuracy:  0.7102803738\n",
      "Classification Report:\n",
      "              precision    recall  f1-score   support\n",
      "\n",
      "           0       0.81      0.76      0.78        74\n",
      "           1       0.53      0.61      0.56        33\n",
      "\n",
      "    accuracy                           0.71       107\n",
      "   macro avg       0.67      0.68      0.67       107\n",
      "weighted avg       0.72      0.71      0.72       107\n",
      "\n"
     ]
    }
   ],
   "execution_count": 6
  },
  {
   "metadata": {},
   "cell_type": "markdown",
   "source": "## Naniesienie dokładności klasyfikatorów na wykres słupkowy",
   "id": "18211589a7a3fe46"
  },
  {
   "metadata": {},
   "cell_type": "code",
   "outputs": [],
   "execution_count": null,
   "source": [
    "data = []\n",
    "data.append(accuracy_knn_k3_mean)\n",
    "data.append(accuracy_knn_k5_mean)\n",
    "data.append(accuracy_knn_k11_mean)\n",
    "data.append(accuracy_bayes_mean)\n",
    "data.append(accuracy_tree_mean)\n",
    "\n",
    "categories = ['knn k=3', 'knn k=5', 'knn k=11', 'naive bayes', 'decision tree']\n",
    "\n",
    "plt.bar(categories, data)\n",
    "\n",
    "plt.xlabel('Category')\n",
    "plt.ylabel('Values')  \n",
    "\n",
    "plt.show()"
   ],
   "id": "6cc9e793f0ed9307"
  }
 ],
 "metadata": {
  "kernelspec": {
   "display_name": "Python 3",
   "language": "python",
   "name": "python3"
  },
  "language_info": {
   "codemirror_mode": {
    "name": "ipython",
    "version": 2
   },
   "file_extension": ".py",
   "mimetype": "text/x-python",
   "name": "python",
   "nbconvert_exporter": "python",
   "pygments_lexer": "ipython2",
   "version": "2.7.6"
  }
 },
 "nbformat": 4,
 "nbformat_minor": 5
}
